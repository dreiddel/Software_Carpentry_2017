{
 "cells": [
  {
   "cell_type": "code",
   "execution_count": 1,
   "metadata": {
    "collapsed": true
   },
   "outputs": [],
   "source": [
    "text=\"sotware carpentry\""
   ]
  },
  {
   "cell_type": "code",
   "execution_count": 2,
   "metadata": {
    "collapsed": false
   },
   "outputs": [
    {
     "name": "stdout",
     "output_type": "stream",
     "text": [
      "sotware carpentry\n"
     ]
    }
   ],
   "source": [
    "print(text)"
   ]
  },
  {
   "cell_type": "code",
   "execution_count": 3,
   "metadata": {
    "collapsed": false
   },
   "outputs": [
    {
     "name": "stdout",
     "output_type": "stream",
     "text": [
      "5\n"
     ]
    }
   ],
   "source": [
    "num = 5\n",
    "print(num)"
   ]
  },
  {
   "cell_type": "code",
   "execution_count": 4,
   "metadata": {
    "collapsed": false
   },
   "outputs": [
    {
     "name": "stdout",
     "output_type": "stream",
     "text": [
      "3.142\n"
     ]
    }
   ],
   "source": [
    "pi=3.142\n",
    "print(pi)"
   ]
  },
  {
   "cell_type": "code",
   "execution_count": 5,
   "metadata": {
    "collapsed": false
   },
   "outputs": [
    {
     "data": {
      "text/plain": [
       "1024"
      ]
     },
     "execution_count": 5,
     "metadata": {},
     "output_type": "execute_result"
    }
   ],
   "source": [
    "2**3\n",
    "2**10"
   ]
  },
  {
   "cell_type": "code",
   "execution_count": 6,
   "metadata": {
    "collapsed": false
   },
   "outputs": [
    {
     "data": {
      "text/plain": [
       "8"
      ]
     },
     "execution_count": 6,
     "metadata": {},
     "output_type": "execute_result"
    }
   ],
   "source": [
    "2**3"
   ]
  },
  {
   "cell_type": "code",
   "execution_count": 7,
   "metadata": {
    "collapsed": false
   },
   "outputs": [
    {
     "data": {
      "text/plain": [
       "0"
      ]
     },
     "execution_count": 7,
     "metadata": {},
     "output_type": "execute_result"
    }
   ],
   "source": [
    "2%1"
   ]
  },
  {
   "cell_type": "code",
   "execution_count": 8,
   "metadata": {
    "collapsed": false
   },
   "outputs": [
    {
     "data": {
      "text/plain": [
       "5"
      ]
     },
     "execution_count": 8,
     "metadata": {},
     "output_type": "execute_result"
    }
   ],
   "source": [
    "5%13"
   ]
  },
  {
   "cell_type": "code",
   "execution_count": 9,
   "metadata": {
    "collapsed": false
   },
   "outputs": [
    {
     "data": {
      "text/plain": [
       "2"
      ]
     },
     "execution_count": 9,
     "metadata": {},
     "output_type": "execute_result"
    }
   ],
   "source": [
    "47%5"
   ]
  },
  {
   "cell_type": "code",
   "execution_count": 10,
   "metadata": {
    "collapsed": false
   },
   "outputs": [
    {
     "data": {
      "text/plain": [
       "True"
      ]
     },
     "execution_count": 10,
     "metadata": {},
     "output_type": "execute_result"
    }
   ],
   "source": [
    "10 < 24"
   ]
  },
  {
   "cell_type": "code",
   "execution_count": 11,
   "metadata": {
    "collapsed": false
   },
   "outputs": [
    {
     "data": {
      "text/plain": [
       "6946027806565873025328496508928"
      ]
     },
     "execution_count": 11,
     "metadata": {},
     "output_type": "execute_result"
    }
   ],
   "source": [
    "a=42\n",
    "a**19"
   ]
  },
  {
   "cell_type": "code",
   "execution_count": 12,
   "metadata": {
    "collapsed": true
   },
   "outputs": [],
   "source": [
    "numbers = [1,2,3,4,5]"
   ]
  },
  {
   "cell_type": "code",
   "execution_count": 13,
   "metadata": {
    "collapsed": false
   },
   "outputs": [
    {
     "name": "stdout",
     "output_type": "stream",
     "text": [
      "[1, 2, 3, 4, 5]\n"
     ]
    }
   ],
   "source": [
    "print(numbers)"
   ]
  },
  {
   "cell_type": "code",
   "execution_count": 14,
   "metadata": {
    "collapsed": false
   },
   "outputs": [
    {
     "name": "stdout",
     "output_type": "stream",
     "text": [
      "4\n"
     ]
    }
   ],
   "source": [
    "print(numbers[3])"
   ]
  },
  {
   "cell_type": "code",
   "execution_count": 15,
   "metadata": {
    "collapsed": true
   },
   "outputs": [],
   "source": [
    "numbers.append(6)"
   ]
  },
  {
   "cell_type": "code",
   "execution_count": 16,
   "metadata": {
    "collapsed": false
   },
   "outputs": [
    {
     "name": "stdout",
     "output_type": "stream",
     "text": [
      "[1, 2, 3, 4, 5, 6]\n"
     ]
    }
   ],
   "source": [
    "print(numbers)"
   ]
  },
  {
   "cell_type": "code",
   "execution_count": 17,
   "metadata": {
    "collapsed": true
   },
   "outputs": [],
   "source": [
    "numbers.append([7,8,9])"
   ]
  },
  {
   "cell_type": "code",
   "execution_count": 18,
   "metadata": {
    "collapsed": false
   },
   "outputs": [
    {
     "name": "stdout",
     "output_type": "stream",
     "text": [
      "[1, 2, 3, 4, 5, 6, [7, 8, 9]]\n"
     ]
    }
   ],
   "source": [
    "print(numbers)"
   ]
  },
  {
   "cell_type": "code",
   "execution_count": 19,
   "metadata": {
    "collapsed": false
   },
   "outputs": [
    {
     "data": {
      "text/plain": [
       "[7, 8, 9]"
      ]
     },
     "execution_count": 19,
     "metadata": {},
     "output_type": "execute_result"
    }
   ],
   "source": [
    "numbers.pop()"
   ]
  },
  {
   "cell_type": "code",
   "execution_count": 20,
   "metadata": {
    "collapsed": false
   },
   "outputs": [
    {
     "name": "stdout",
     "output_type": "stream",
     "text": [
      "[1, 2, 3, 4, 5, 6]\n"
     ]
    }
   ],
   "source": [
    "print(numbers)"
   ]
  },
  {
   "cell_type": "code",
   "execution_count": 21,
   "metadata": {
    "collapsed": false
   },
   "outputs": [
    {
     "ename": "TypeError",
     "evalue": "append() takes exactly one argument (3 given)",
     "output_type": "error",
     "traceback": [
      "\u001b[0;31m---------------------------------------------------------------------------\u001b[0m",
      "\u001b[0;31mTypeError\u001b[0m                                 Traceback (most recent call last)",
      "\u001b[0;32m<ipython-input-21-d45cf389db51>\u001b[0m in \u001b[0;36m<module>\u001b[0;34m()\u001b[0m\n\u001b[0;32m----> 1\u001b[0;31m \u001b[0mnumbers\u001b[0m\u001b[0;34m.\u001b[0m\u001b[0mappend\u001b[0m\u001b[0;34m(\u001b[0m\u001b[0;36m7\u001b[0m\u001b[0;34m,\u001b[0m\u001b[0;36m8\u001b[0m\u001b[0;34m,\u001b[0m\u001b[0;36m9\u001b[0m\u001b[0;34m)\u001b[0m\u001b[0;34m\u001b[0m\u001b[0m\n\u001b[0m",
      "\u001b[0;31mTypeError\u001b[0m: append() takes exactly one argument (3 given)"
     ]
    }
   ],
   "source": [
    "numbers.append(7,8,9)"
   ]
  },
  {
   "cell_type": "code",
   "execution_count": 22,
   "metadata": {
    "collapsed": true
   },
   "outputs": [],
   "source": [
    "dictionary = {'one':1, 'two':2}"
   ]
  },
  {
   "cell_type": "code",
   "execution_count": 23,
   "metadata": {
    "collapsed": false
   },
   "outputs": [
    {
     "name": "stdout",
     "output_type": "stream",
     "text": [
      "1\n"
     ]
    }
   ],
   "source": [
    "print(dictionary['one'])"
   ]
  },
  {
   "cell_type": "code",
   "execution_count": 24,
   "metadata": {
    "collapsed": false
   },
   "outputs": [
    {
     "name": "stdout",
     "output_type": "stream",
     "text": [
      "(1, 2, 3)\n"
     ]
    }
   ],
   "source": [
    "a_tuple = (1,2,3)\n",
    "print(a_tuple)"
   ]
  },
  {
   "cell_type": "code",
   "execution_count": 25,
   "metadata": {
    "collapsed": true
   },
   "outputs": [],
   "source": [
    "b_tuple = (2,4,6)"
   ]
  },
  {
   "cell_type": "code",
   "execution_count": 27,
   "metadata": {
    "collapsed": true
   },
   "outputs": [],
   "source": [
    "import pandas"
   ]
  },
  {
   "cell_type": "code",
   "execution_count": 29,
   "metadata": {
    "collapsed": false
   },
   "outputs": [
    {
     "name": "stdout",
     "output_type": "stream",
     "text": [
      "Help on package pandas:\n",
      "\n",
      "NAME\n",
      "    pandas\n",
      "\n",
      "DESCRIPTION\n",
      "    pandas - a powerful data analysis and manipulation library for Python\n",
      "    =====================================================================\n",
      "    \n",
      "    See http://pandas.pydata.org/ for full documentation. Otherwise, see the\n",
      "    docstrings of the various objects in the pandas namespace:\n",
      "    \n",
      "    Series\n",
      "    DataFrame\n",
      "    Panel\n",
      "    Index\n",
      "    DatetimeIndex\n",
      "    HDFStore\n",
      "    bdate_range\n",
      "    date_range\n",
      "    read_csv\n",
      "    read_fwf\n",
      "    read_table\n",
      "    ols\n",
      "\n",
      "PACKAGE CONTENTS\n",
      "    _hash\n",
      "    _join\n",
      "    _period\n",
      "    _sparse\n",
      "    _testing\n",
      "    _version\n",
      "    _window\n",
      "    algos\n",
      "    api (package)\n",
      "    compat (package)\n",
      "    computation (package)\n",
      "    core (package)\n",
      "    formats (package)\n",
      "    hashtable\n",
      "    index\n",
      "    indexes (package)\n",
      "    info\n",
      "    io (package)\n",
      "    json\n",
      "    lib\n",
      "    msgpack (package)\n",
      "    parser\n",
      "    rpy (package)\n",
      "    sparse (package)\n",
      "    stats (package)\n",
      "    tests (package)\n",
      "    tools (package)\n",
      "    tseries (package)\n",
      "    tslib\n",
      "    types (package)\n",
      "    util (package)\n",
      "\n",
      "SUBMODULES\n",
      "    offsets\n",
      "\n",
      "DATA\n",
      "    IndexSlice = <pandas.core.indexing._IndexSlice object>\n",
      "    NaT = NaT\n",
      "    __docformat__ = 'restructuredtext'\n",
      "    datetools = <module 'pandas.core.datetools' from '/Users/mic...ython3....\n",
      "    describe_option = <pandas.core.config.CallableDynamicDoc object>\n",
      "    get_option = <pandas.core.config.CallableDynamicDoc object>\n",
      "    options = <pandas.core.config.DictWrapper object>\n",
      "    plot_params = {'xaxis.compat': False}\n",
      "    reset_option = <pandas.core.config.CallableDynamicDoc object>\n",
      "    set_option = <pandas.core.config.CallableDynamicDoc object>\n",
      "\n",
      "VERSION\n",
      "    0.19.2\n",
      "\n",
      "FILE\n",
      "    /Users/mickoleary/anaconda/lib/python3.6/site-packages/pandas/__init__.py\n",
      "\n",
      "\n"
     ]
    }
   ],
   "source": [
    "help (pandas)"
   ]
  },
  {
   "cell_type": "code",
   "execution_count": 48,
   "metadata": {
    "collapsed": true
   },
   "outputs": [],
   "source": [
    "dem_data=pandas.read_csv(\"/Users/mickoleary/Dem_HealthData/TX.txt\", sep='\\t')"
   ]
  },
  {
   "cell_type": "code",
   "execution_count": 49,
   "metadata": {
    "collapsed": false
   },
   "outputs": [
    {
     "name": "stdout",
     "output_type": "stream",
     "text": [
      "         County State  Population_Density  Poverty  Infant_Mortality  Suicide  \\\n",
      "0      Anderson    TX                  53     20.1               6.4     17.4   \n",
      "1       Andrews    TX                   8     15.0              10.7     13.6   \n",
      "2      Angelina    TX                 102     17.3               6.4     13.0   \n",
      "3       Aransas    TX                  98     18.5               7.0     18.8   \n",
      "4        Archer    TX                  10      9.1               8.9  -1111.1   \n",
      "5     Armstrong    TX                   2      9.7               NaN  -1111.1   \n",
      "6      Atascosa    TX                  35     19.0               8.8     17.1   \n",
      "7        Austin    TX                  40     11.3               5.7     11.3   \n",
      "8        Bailey    TX                   8     17.9               7.3  -1111.1   \n",
      "9       Bandera    TX                  25     12.4               7.6     22.2   \n",
      "10      Bastrop    TX                  79     12.6               5.6     16.4   \n",
      "11       Baylor    TX                   4     16.7               NaN  -1111.1   \n",
      "12          Bee    TX                  37     24.6               6.7     14.1   \n",
      "13         Bell    TX                 242     14.8               7.5     11.5   \n",
      "14        Bexar    TX                1218     17.6               7.0     10.3   \n",
      "15       Blanco    TX                  13     10.5               5.7     23.1   \n",
      "16       Borden    TX                   1      6.9               NaN  -1111.1   \n",
      "17       Bosque    TX                  18     14.3               8.2     14.8   \n",
      "18        Bowie    TX                 102     17.5               8.2     12.4   \n",
      "19     Brazoria    TX                 201     11.5               5.0     13.4   \n",
      "20       Brazos    TX                 267     18.9               4.4      8.8   \n",
      "21     Brewster    TX                   1     17.5              11.4     24.9   \n",
      "22      Briscoe    TX                   2     15.7               NaN  -1111.1   \n",
      "23       Brooks    TX                   8     29.5               3.1     15.0   \n",
      "24        Brown    TX                  41     18.1              11.2      8.3   \n",
      "25     Burleson    TX                  26     15.5               6.5     13.5   \n",
      "26       Burnet    TX                  42     11.9               6.8     13.2   \n",
      "27     Caldwell    TX                  67     14.7               7.4     14.0   \n",
      "28      Calhoun    TX                  40     16.3               3.6      9.9   \n",
      "29     Callahan    TX                  15     14.3               6.6     18.2   \n",
      "..          ...   ...                 ...      ...               ...      ...   \n",
      "224       Titus    TX                  72     16.4               5.5     15.1   \n",
      "225   Tom Green    TX                  68     16.7               8.0     15.9   \n",
      "226      Travis    TX                 898     13.9               5.8     12.9   \n",
      "227     Trinity    TX                  21     17.8              12.6     19.0   \n",
      "228       Tyler    TX                  22     17.5              13.1     12.1   \n",
      "229      Upshur    TX                  64     15.9               7.3     15.4   \n",
      "230       Upton    TX                   2     16.3               NaN  -1111.1   \n",
      "231      Uvalde    TX                  17     23.4               4.7      7.7   \n",
      "232   Val Verde    TX                  15     22.4               5.7      8.8   \n",
      "233   Van Zandt    TX                  62     14.0               4.3     20.2   \n",
      "234    Victoria    TX                  97     15.5               6.1     11.2   \n",
      "235      Walker    TX                  80     19.4               6.2     13.8   \n",
      "236      Waller    TX                  68     17.5               3.2     12.1   \n",
      "237        Ward    TX                  12     17.1               7.1     10.4   \n",
      "238  Washington    TX                  52     13.6               4.6      5.8   \n",
      "239        Webb    TX                  67     27.1               5.3      6.0   \n",
      "240     Wharton    TX                  38     15.6               5.3     10.3   \n",
      "241     Wheeler    TX                   5     13.8               7.6     23.7   \n",
      "242     Wichita    TX                 201     15.6               8.9     13.2   \n",
      "243   Wilbarger    TX                  14     15.9               6.7      9.6   \n",
      "244     Willacy    TX                  34     30.2               4.0      5.8   \n",
      "245  Williamson    TX                 297      6.9               4.9      7.9   \n",
      "246      Wilson    TX                  47     12.0               6.9      9.0   \n",
      "247     Winkler    TX                   8     16.4               5.0     21.9   \n",
      "248        Wise    TX                  63     10.8               6.2     13.3   \n",
      "249        Wood    TX                  63     15.2               8.4     14.8   \n",
      "250      Yoakum    TX                   9     15.5               3.6     17.8   \n",
      "251       Young    TX                  20     16.4               6.4     17.2   \n",
      "252      Zapata    TX                  13     27.0               5.0     10.5   \n",
      "253      Zavala    TX                   9     32.7               4.8     12.1   \n",
      "\n",
      "     Total_Births  Total_Deaths  \n",
      "0            3298          3018  \n",
      "1            2094          1093  \n",
      "2            6401          3955  \n",
      "3            2362          2560  \n",
      "4            1005           677  \n",
      "5             227           266  \n",
      "6            3164          1571  \n",
      "7            3236          2522  \n",
      "8            1207           615  \n",
      "9            1726          1407  \n",
      "10           4464          2265  \n",
      "11            409           700  \n",
      "12           1938          1123  \n",
      "13          16694          4819  \n",
      "14          73703         30791  \n",
      "15            949           917  \n",
      "16             37            40  \n",
      "17           2013          2641  \n",
      "18           5751          4922  \n",
      "19          12713          5183  \n",
      "20           6781          2343  \n",
      "21           1156           779  \n",
      "22            242           225  \n",
      "23           1417           773  \n",
      "24           2502          2386  \n",
      "25           2185          1613  \n",
      "26           2364          1920  \n",
      "27           2580          1405  \n",
      "28           3372          1671  \n",
      "29           1347          1409  \n",
      "..            ...           ...  \n",
      "224          2546          1338  \n",
      "225          4738          3035  \n",
      "226         43572         12200  \n",
      "227          1544          1892  \n",
      "228          2219          2448  \n",
      "229          2332          2101  \n",
      "230           487           349  \n",
      "231          2350          1174  \n",
      "232          4568          1561  \n",
      "233          3053          2930  \n",
      "234          6733          3466  \n",
      "235          3069          2139  \n",
      "236          2466          1189  \n",
      "237          1573          1073  \n",
      "238          1956          1729  \n",
      "239         17803          3046  \n",
      "240          3185          2056  \n",
      "241           574           883  \n",
      "242          5643          3875  \n",
      "243          1995          1844  \n",
      "244          3972          1186  \n",
      "245         14947          3857  \n",
      "246          2171          1313  \n",
      "247          1120           762  \n",
      "248          3392          2131  \n",
      "249          2135          2603  \n",
      "250          1256           566  \n",
      "251          2222          2563  \n",
      "252          2409           851  \n",
      "253          2125           922  \n",
      "\n",
      "[254 rows x 8 columns]\n"
     ]
    }
   ],
   "source": [
    "print(dem_data)"
   ]
  },
  {
   "cell_type": "code",
   "execution_count": 50,
   "metadata": {
    "collapsed": false
   },
   "outputs": [
    {
     "data": {
      "text/plain": [
       "pandas.core.frame.DataFrame"
      ]
     },
     "execution_count": 50,
     "metadata": {},
     "output_type": "execute_result"
    }
   ],
   "source": [
    "type(dem_data)"
   ]
  },
  {
   "cell_type": "code",
   "execution_count": 51,
   "metadata": {
    "collapsed": false
   },
   "outputs": [
    {
     "data": {
      "text/plain": [
       "County                 object\n",
       "State                  object\n",
       "Population_Density      int64\n",
       "Poverty               float64\n",
       "Infant_Mortality      float64\n",
       "Suicide               float64\n",
       "Total_Births            int64\n",
       "Total_Deaths            int64\n",
       "dtype: object"
      ]
     },
     "execution_count": 51,
     "metadata": {},
     "output_type": "execute_result"
    }
   ],
   "source": [
    "dem_data.dtypes"
   ]
  },
  {
   "cell_type": "code",
   "execution_count": 52,
   "metadata": {
    "collapsed": false
   },
   "outputs": [
    {
     "data": {
      "text/plain": [
       "array(['County', 'State', 'Population_Density', 'Poverty',\n",
       "       'Infant_Mortality', 'Suicide', 'Total_Births', 'Total_Deaths'], dtype=object)"
      ]
     },
     "execution_count": 52,
     "metadata": {},
     "output_type": "execute_result"
    }
   ],
   "source": [
    "dem_data.columns.values"
   ]
  },
  {
   "cell_type": "code",
   "execution_count": 53,
   "metadata": {
    "collapsed": false
   },
   "outputs": [],
   "source": [
    "clean_dem_data = dem_data.fillna(0)"
   ]
  },
  {
   "cell_type": "code",
   "execution_count": 54,
   "metadata": {
    "collapsed": false
   },
   "outputs": [
    {
     "name": "stdout",
     "output_type": "stream",
     "text": [
      "         County State  Population_Density  Poverty  Infant_Mortality  Suicide  \\\n",
      "0      Anderson    TX                  53     20.1               6.4     17.4   \n",
      "1       Andrews    TX                   8     15.0              10.7     13.6   \n",
      "2      Angelina    TX                 102     17.3               6.4     13.0   \n",
      "3       Aransas    TX                  98     18.5               7.0     18.8   \n",
      "4        Archer    TX                  10      9.1               8.9  -1111.1   \n",
      "5     Armstrong    TX                   2      9.7               0.0  -1111.1   \n",
      "6      Atascosa    TX                  35     19.0               8.8     17.1   \n",
      "7        Austin    TX                  40     11.3               5.7     11.3   \n",
      "8        Bailey    TX                   8     17.9               7.3  -1111.1   \n",
      "9       Bandera    TX                  25     12.4               7.6     22.2   \n",
      "10      Bastrop    TX                  79     12.6               5.6     16.4   \n",
      "11       Baylor    TX                   4     16.7               0.0  -1111.1   \n",
      "12          Bee    TX                  37     24.6               6.7     14.1   \n",
      "13         Bell    TX                 242     14.8               7.5     11.5   \n",
      "14        Bexar    TX                1218     17.6               7.0     10.3   \n",
      "15       Blanco    TX                  13     10.5               5.7     23.1   \n",
      "16       Borden    TX                   1      6.9               0.0  -1111.1   \n",
      "17       Bosque    TX                  18     14.3               8.2     14.8   \n",
      "18        Bowie    TX                 102     17.5               8.2     12.4   \n",
      "19     Brazoria    TX                 201     11.5               5.0     13.4   \n",
      "20       Brazos    TX                 267     18.9               4.4      8.8   \n",
      "21     Brewster    TX                   1     17.5              11.4     24.9   \n",
      "22      Briscoe    TX                   2     15.7               0.0  -1111.1   \n",
      "23       Brooks    TX                   8     29.5               3.1     15.0   \n",
      "24        Brown    TX                  41     18.1              11.2      8.3   \n",
      "25     Burleson    TX                  26     15.5               6.5     13.5   \n",
      "26       Burnet    TX                  42     11.9               6.8     13.2   \n",
      "27     Caldwell    TX                  67     14.7               7.4     14.0   \n",
      "28      Calhoun    TX                  40     16.3               3.6      9.9   \n",
      "29     Callahan    TX                  15     14.3               6.6     18.2   \n",
      "..          ...   ...                 ...      ...               ...      ...   \n",
      "224       Titus    TX                  72     16.4               5.5     15.1   \n",
      "225   Tom Green    TX                  68     16.7               8.0     15.9   \n",
      "226      Travis    TX                 898     13.9               5.8     12.9   \n",
      "227     Trinity    TX                  21     17.8              12.6     19.0   \n",
      "228       Tyler    TX                  22     17.5              13.1     12.1   \n",
      "229      Upshur    TX                  64     15.9               7.3     15.4   \n",
      "230       Upton    TX                   2     16.3               0.0  -1111.1   \n",
      "231      Uvalde    TX                  17     23.4               4.7      7.7   \n",
      "232   Val Verde    TX                  15     22.4               5.7      8.8   \n",
      "233   Van Zandt    TX                  62     14.0               4.3     20.2   \n",
      "234    Victoria    TX                  97     15.5               6.1     11.2   \n",
      "235      Walker    TX                  80     19.4               6.2     13.8   \n",
      "236      Waller    TX                  68     17.5               3.2     12.1   \n",
      "237        Ward    TX                  12     17.1               7.1     10.4   \n",
      "238  Washington    TX                  52     13.6               4.6      5.8   \n",
      "239        Webb    TX                  67     27.1               5.3      6.0   \n",
      "240     Wharton    TX                  38     15.6               5.3     10.3   \n",
      "241     Wheeler    TX                   5     13.8               7.6     23.7   \n",
      "242     Wichita    TX                 201     15.6               8.9     13.2   \n",
      "243   Wilbarger    TX                  14     15.9               6.7      9.6   \n",
      "244     Willacy    TX                  34     30.2               4.0      5.8   \n",
      "245  Williamson    TX                 297      6.9               4.9      7.9   \n",
      "246      Wilson    TX                  47     12.0               6.9      9.0   \n",
      "247     Winkler    TX                   8     16.4               5.0     21.9   \n",
      "248        Wise    TX                  63     10.8               6.2     13.3   \n",
      "249        Wood    TX                  63     15.2               8.4     14.8   \n",
      "250      Yoakum    TX                   9     15.5               3.6     17.8   \n",
      "251       Young    TX                  20     16.4               6.4     17.2   \n",
      "252      Zapata    TX                  13     27.0               5.0     10.5   \n",
      "253      Zavala    TX                   9     32.7               4.8     12.1   \n",
      "\n",
      "     Total_Births  Total_Deaths  \n",
      "0            3298          3018  \n",
      "1            2094          1093  \n",
      "2            6401          3955  \n",
      "3            2362          2560  \n",
      "4            1005           677  \n",
      "5             227           266  \n",
      "6            3164          1571  \n",
      "7            3236          2522  \n",
      "8            1207           615  \n",
      "9            1726          1407  \n",
      "10           4464          2265  \n",
      "11            409           700  \n",
      "12           1938          1123  \n",
      "13          16694          4819  \n",
      "14          73703         30791  \n",
      "15            949           917  \n",
      "16             37            40  \n",
      "17           2013          2641  \n",
      "18           5751          4922  \n",
      "19          12713          5183  \n",
      "20           6781          2343  \n",
      "21           1156           779  \n",
      "22            242           225  \n",
      "23           1417           773  \n",
      "24           2502          2386  \n",
      "25           2185          1613  \n",
      "26           2364          1920  \n",
      "27           2580          1405  \n",
      "28           3372          1671  \n",
      "29           1347          1409  \n",
      "..            ...           ...  \n",
      "224          2546          1338  \n",
      "225          4738          3035  \n",
      "226         43572         12200  \n",
      "227          1544          1892  \n",
      "228          2219          2448  \n",
      "229          2332          2101  \n",
      "230           487           349  \n",
      "231          2350          1174  \n",
      "232          4568          1561  \n",
      "233          3053          2930  \n",
      "234          6733          3466  \n",
      "235          3069          2139  \n",
      "236          2466          1189  \n",
      "237          1573          1073  \n",
      "238          1956          1729  \n",
      "239         17803          3046  \n",
      "240          3185          2056  \n",
      "241           574           883  \n",
      "242          5643          3875  \n",
      "243          1995          1844  \n",
      "244          3972          1186  \n",
      "245         14947          3857  \n",
      "246          2171          1313  \n",
      "247          1120           762  \n",
      "248          3392          2131  \n",
      "249          2135          2603  \n",
      "250          1256           566  \n",
      "251          2222          2563  \n",
      "252          2409           851  \n",
      "253          2125           922  \n",
      "\n",
      "[254 rows x 8 columns]\n"
     ]
    }
   ],
   "source": [
    "print(clean_dem_data)"
   ]
  },
  {
   "cell_type": "code",
   "execution_count": 55,
   "metadata": {
    "collapsed": true
   },
   "outputs": [],
   "source": [
    "clean_dem_data.loc[(dem_data['Suicide'] < 0),'Suicide'] = 0"
   ]
  },
  {
   "cell_type": "code",
   "execution_count": 56,
   "metadata": {
    "collapsed": false
   },
   "outputs": [
    {
     "name": "stdout",
     "output_type": "stream",
     "text": [
      "         County State  Population_Density  Poverty  Infant_Mortality  Suicide  \\\n",
      "0      Anderson    TX                  53     20.1               6.4     17.4   \n",
      "1       Andrews    TX                   8     15.0              10.7     13.6   \n",
      "2      Angelina    TX                 102     17.3               6.4     13.0   \n",
      "3       Aransas    TX                  98     18.5               7.0     18.8   \n",
      "4        Archer    TX                  10      9.1               8.9      0.0   \n",
      "5     Armstrong    TX                   2      9.7               0.0      0.0   \n",
      "6      Atascosa    TX                  35     19.0               8.8     17.1   \n",
      "7        Austin    TX                  40     11.3               5.7     11.3   \n",
      "8        Bailey    TX                   8     17.9               7.3      0.0   \n",
      "9       Bandera    TX                  25     12.4               7.6     22.2   \n",
      "10      Bastrop    TX                  79     12.6               5.6     16.4   \n",
      "11       Baylor    TX                   4     16.7               0.0      0.0   \n",
      "12          Bee    TX                  37     24.6               6.7     14.1   \n",
      "13         Bell    TX                 242     14.8               7.5     11.5   \n",
      "14        Bexar    TX                1218     17.6               7.0     10.3   \n",
      "15       Blanco    TX                  13     10.5               5.7     23.1   \n",
      "16       Borden    TX                   1      6.9               0.0      0.0   \n",
      "17       Bosque    TX                  18     14.3               8.2     14.8   \n",
      "18        Bowie    TX                 102     17.5               8.2     12.4   \n",
      "19     Brazoria    TX                 201     11.5               5.0     13.4   \n",
      "20       Brazos    TX                 267     18.9               4.4      8.8   \n",
      "21     Brewster    TX                   1     17.5              11.4     24.9   \n",
      "22      Briscoe    TX                   2     15.7               0.0      0.0   \n",
      "23       Brooks    TX                   8     29.5               3.1     15.0   \n",
      "24        Brown    TX                  41     18.1              11.2      8.3   \n",
      "25     Burleson    TX                  26     15.5               6.5     13.5   \n",
      "26       Burnet    TX                  42     11.9               6.8     13.2   \n",
      "27     Caldwell    TX                  67     14.7               7.4     14.0   \n",
      "28      Calhoun    TX                  40     16.3               3.6      9.9   \n",
      "29     Callahan    TX                  15     14.3               6.6     18.2   \n",
      "..          ...   ...                 ...      ...               ...      ...   \n",
      "224       Titus    TX                  72     16.4               5.5     15.1   \n",
      "225   Tom Green    TX                  68     16.7               8.0     15.9   \n",
      "226      Travis    TX                 898     13.9               5.8     12.9   \n",
      "227     Trinity    TX                  21     17.8              12.6     19.0   \n",
      "228       Tyler    TX                  22     17.5              13.1     12.1   \n",
      "229      Upshur    TX                  64     15.9               7.3     15.4   \n",
      "230       Upton    TX                   2     16.3               0.0      0.0   \n",
      "231      Uvalde    TX                  17     23.4               4.7      7.7   \n",
      "232   Val Verde    TX                  15     22.4               5.7      8.8   \n",
      "233   Van Zandt    TX                  62     14.0               4.3     20.2   \n",
      "234    Victoria    TX                  97     15.5               6.1     11.2   \n",
      "235      Walker    TX                  80     19.4               6.2     13.8   \n",
      "236      Waller    TX                  68     17.5               3.2     12.1   \n",
      "237        Ward    TX                  12     17.1               7.1     10.4   \n",
      "238  Washington    TX                  52     13.6               4.6      5.8   \n",
      "239        Webb    TX                  67     27.1               5.3      6.0   \n",
      "240     Wharton    TX                  38     15.6               5.3     10.3   \n",
      "241     Wheeler    TX                   5     13.8               7.6     23.7   \n",
      "242     Wichita    TX                 201     15.6               8.9     13.2   \n",
      "243   Wilbarger    TX                  14     15.9               6.7      9.6   \n",
      "244     Willacy    TX                  34     30.2               4.0      5.8   \n",
      "245  Williamson    TX                 297      6.9               4.9      7.9   \n",
      "246      Wilson    TX                  47     12.0               6.9      9.0   \n",
      "247     Winkler    TX                   8     16.4               5.0     21.9   \n",
      "248        Wise    TX                  63     10.8               6.2     13.3   \n",
      "249        Wood    TX                  63     15.2               8.4     14.8   \n",
      "250      Yoakum    TX                   9     15.5               3.6     17.8   \n",
      "251       Young    TX                  20     16.4               6.4     17.2   \n",
      "252      Zapata    TX                  13     27.0               5.0     10.5   \n",
      "253      Zavala    TX                   9     32.7               4.8     12.1   \n",
      "\n",
      "     Total_Births  Total_Deaths  \n",
      "0            3298          3018  \n",
      "1            2094          1093  \n",
      "2            6401          3955  \n",
      "3            2362          2560  \n",
      "4            1005           677  \n",
      "5             227           266  \n",
      "6            3164          1571  \n",
      "7            3236          2522  \n",
      "8            1207           615  \n",
      "9            1726          1407  \n",
      "10           4464          2265  \n",
      "11            409           700  \n",
      "12           1938          1123  \n",
      "13          16694          4819  \n",
      "14          73703         30791  \n",
      "15            949           917  \n",
      "16             37            40  \n",
      "17           2013          2641  \n",
      "18           5751          4922  \n",
      "19          12713          5183  \n",
      "20           6781          2343  \n",
      "21           1156           779  \n",
      "22            242           225  \n",
      "23           1417           773  \n",
      "24           2502          2386  \n",
      "25           2185          1613  \n",
      "26           2364          1920  \n",
      "27           2580          1405  \n",
      "28           3372          1671  \n",
      "29           1347          1409  \n",
      "..            ...           ...  \n",
      "224          2546          1338  \n",
      "225          4738          3035  \n",
      "226         43572         12200  \n",
      "227          1544          1892  \n",
      "228          2219          2448  \n",
      "229          2332          2101  \n",
      "230           487           349  \n",
      "231          2350          1174  \n",
      "232          4568          1561  \n",
      "233          3053          2930  \n",
      "234          6733          3466  \n",
      "235          3069          2139  \n",
      "236          2466          1189  \n",
      "237          1573          1073  \n",
      "238          1956          1729  \n",
      "239         17803          3046  \n",
      "240          3185          2056  \n",
      "241           574           883  \n",
      "242          5643          3875  \n",
      "243          1995          1844  \n",
      "244          3972          1186  \n",
      "245         14947          3857  \n",
      "246          2171          1313  \n",
      "247          1120           762  \n",
      "248          3392          2131  \n",
      "249          2135          2603  \n",
      "250          1256           566  \n",
      "251          2222          2563  \n",
      "252          2409           851  \n",
      "253          2125           922  \n",
      "\n",
      "[254 rows x 8 columns]\n"
     ]
    }
   ],
   "source": [
    "print(clean_dem_data)"
   ]
  },
  {
   "cell_type": "code",
   "execution_count": 57,
   "metadata": {
    "collapsed": false
   },
   "outputs": [
    {
     "data": {
      "text/plain": [
       "count    254.000000\n",
       "mean      16.793307\n",
       "std        4.891179\n",
       "min        5.400000\n",
       "25%       13.700000\n",
       "50%       16.350000\n",
       "75%       19.100000\n",
       "max       36.200000\n",
       "Name: Poverty, dtype: float64"
      ]
     },
     "execution_count": 57,
     "metadata": {},
     "output_type": "execute_result"
    }
   ],
   "source": [
    "clean_dem_data['Poverty'].describe()"
   ]
  },
  {
   "cell_type": "code",
   "execution_count": 88,
   "metadata": {
    "collapsed": false
   },
   "outputs": [
    {
     "data": {
      "text/plain": [
       "9.686220472440942"
      ]
     },
     "execution_count": 88,
     "metadata": {},
     "output_type": "execute_result"
    }
   ],
   "source": [
    "clean_dem_data['Suicide'].mean()"
   ]
  },
  {
   "cell_type": "code",
   "execution_count": 70,
   "metadata": {
    "collapsed": false
   },
   "outputs": [],
   "source": [
    "import matplotlib.pyplot as plt"
   ]
  },
  {
   "cell_type": "code",
   "execution_count": 97,
   "metadata": {
    "collapsed": false
   },
   "outputs": [
    {
     "data": {
      "image/png": "[encoded data removed]",
      "text/plain": [
       "<matplotlib.figure.Figure at 0x11ac41550>"
      ]
     },
     "metadata": {},
     "output_type": "display_data"
    }
   ],
   "source": [
    "plt.hist(clean_dem_data['Poverty'])\n",
    "plt.savefig(\"histogram.png\")\n",
    "plt.show()\n"
   ]
  },
  {
   "cell_type": "code",
   "execution_count": 92,
   "metadata": {
    "collapsed": false
   },
   "outputs": [],
   "source": []
  }
 ],
 "metadata": {
  "kernelspec": {
   "display_name": "Python 3",
   "language": "python",
   "name": "python3"
  },
  "language_info": {
   "codemirror_mode": {
    "name": "ipython",
    "version": 3
   },
   "file_extension": ".py",
   "mimetype": "text/x-python",
   "name": "python",
   "nbconvert_exporter": "python",
   "pygments_lexer": "ipython3",
   "version": "3.6.0"
  }
 },
 "nbformat": 4,
 "nbformat_minor": 2
}
